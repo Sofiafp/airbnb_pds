{
 "cells": [
  {
   "cell_type": "markdown",
   "id": "fb91b805",
   "metadata": {},
   "source": [
    "## Data Cleaning and Data Exploration"
   ]
  },
  {
   "cell_type": "markdown",
   "id": "403f54c7",
   "metadata": {},
   "source": [
    "### Importing and Cleaning "
   ]
  },
  {
   "cell_type": "code",
   "execution_count": 1,
   "id": "11596321",
   "metadata": {},
   "outputs": [],
   "source": [
    "import pandas as pd\n",
    "import statsmodels.api as sm\n",
    "import matplotlib.pyplot as plt\n",
    "import numpy as np\n",
    "import statistics as st\n",
    "from scipy import stats\n",
    "from sklearn.linear_model import LinearRegression\n",
    "from sklearn.preprocessing import PolynomialFeatures\n",
    "import seaborn as sb"
   ]
  },
  {
   "cell_type": "code",
   "execution_count": 2,
   "id": "49f195e3",
   "metadata": {},
   "outputs": [],
   "source": [
    "#Import Data\n",
    "\n",
    "listing_file = \"C:\\\\Users\\\\sofia\\\\Desktop\\\\Airbnb\\\\listings.csv\"\n",
    "listing_df = pd.read_csv(listing_file)"
   ]
  },
  {
   "cell_type": "markdown",
   "id": "f887c6b5",
   "metadata": {},
   "source": [
    "### Droping NAs and droping columns "
   ]
  },
  {
   "cell_type": "code",
   "execution_count": 3,
   "id": "27fb0440",
   "metadata": {},
   "outputs": [
    {
     "name": "stdout",
     "output_type": "stream",
     "text": [
      "(18526, 23)\n",
      "(8161, 23)\n"
     ]
    }
   ],
   "source": [
    "#Drop NAs \n",
    "\n",
    "listing_df = listing_df[['id', 'accommodates', 'name', 'host_id', 'host_since', 'host_about', 'host_response_time', 'host_response_rate', \\\n",
    "                         'host_is_superhost', 'host_listings_count', 'host_verifications', 'host_has_profile_pic', \\\n",
    "                         'host_identity_verified', 'neighbourhood_cleansed', 'neighbourhood_group_cleansed', \\\n",
    "                         'latitude', 'longitude', 'room_type', 'bathrooms_text', 'bedrooms', 'amenities', 'price', 'number_of_reviews']]\n",
    "\n",
    "listing_clean = listing_df.dropna(axis= 1 , how='all')\n",
    "listing_clean = listing_clean.dropna()\n",
    "\n",
    "print(listing_df.shape)\n",
    "print(listing_clean.shape)\n",
    "\n",
    "#listing_clean.isna().sum()"
   ]
  },
  {
   "cell_type": "markdown",
   "id": "8acc5208",
   "metadata": {},
   "source": [
    "### Transforming Data"
   ]
  },
  {
   "cell_type": "code",
   "execution_count": 4,
   "id": "3aaa2dba",
   "metadata": {},
   "outputs": [
    {
     "name": "stderr",
     "output_type": "stream",
     "text": [
      "C:\\Users\\sofia\\AppData\\Local\\Temp/ipykernel_5760/1945037960.py:7: FutureWarning: The default value of regex will change from True to False in a future version. In addition, single character regular expressions will *not* be treated as literal strings when regex=True.\n",
      "  listing_clean['price'] = listing_clean['price'].str.replace('$', '')\n"
     ]
    }
   ],
   "source": [
    "#Transform Data\n",
    "\n",
    "#Turn Price column into a numeric type:\n",
    "\n",
    "for price in listing_clean:\n",
    "    if listing_clean['price'].dtype == 'object':\n",
    "        listing_clean['price'] = listing_clean['price'].str.replace('$', '')\n",
    "        listing_clean['price'] = listing_clean['price'].str.replace(',', '')\n",
    "        \n",
    "listing_clean.loc[:, 'price'] = pd.to_numeric(listing_clean['price'])\n",
    "\n",
    "\n",
    "#Split bathroom column into number of bathrooms and Type:\n",
    "\n",
    "listing_clean['nr_bath'] = listing_clean['bathrooms_text'].str.split().str[0]\n",
    "listing_clean['type_of_bath'] = listing_clean['bathrooms_text'].str.split().str[1]\n",
    "#listing_clean = listing_clean.drop('bathrooms_text', axis = 1)\n",
    "\n",
    "#Turning String values that appear in the number of bathrooms column into NA:\n",
    "\n",
    "for value in listing_clean:\n",
    "    if listing_clean['nr_bath'].dtype == 'object':\n",
    "        listing_clean['nr_bath'] = listing_clean['nr_bath'].replace('Shared', np.nan)\n",
    "        listing_clean['nr_bath'] = listing_clean['nr_bath'].replace('Private', np.nan)\n",
    "        \n",
    "#Removing NAs:\n",
    "\n",
    "listing_clean = listing_clean.dropna(axis = 0, how = 'any', subset = ['type_of_bath', 'nr_bath'])\n",
    "\n",
    "#print(listing_clean['nr_bath'].unique())\n",
    "#print(listing_clean['type_of_bath'].unique())\n",
    "#All good\n",
    "\n",
    "#Turning number of baths into numeric data type:\n",
    "\n",
    "listing_clean['nr_bath'].dtypes\n",
    "listing_clean.loc[:, 'nr_bath'] = pd.to_numeric(listing_clean['nr_bath'])"
   ]
  },
  {
   "cell_type": "code",
   "execution_count": 5,
   "id": "088dc5ba",
   "metadata": {},
   "outputs": [],
   "source": [
    "#Resetting Index\n",
    "listing_clean.reset_index(drop=True, inplace=True)"
   ]
  },
  {
   "cell_type": "code",
   "execution_count": 6,
   "id": "695cbbe4",
   "metadata": {},
   "outputs": [
    {
     "name": "stderr",
     "output_type": "stream",
     "text": [
      "C:\\Users\\sofia\\AppData\\Local\\Temp/ipykernel_5760/3766199410.py:7: SettingWithCopyWarning: \n",
      "A value is trying to be set on a copy of a slice from a DataFrame\n",
      "\n",
      "See the caveats in the documentation: https://pandas.pydata.org/pandas-docs/stable/user_guide/indexing.html#returning-a-view-versus-a-copy\n",
      "  listing_clean['is_entire_place'][i] = 1\n",
      "C:\\Users\\sofia\\AppData\\Local\\Temp/ipykernel_5760/3766199410.py:13: SettingWithCopyWarning: \n",
      "A value is trying to be set on a copy of a slice from a DataFrame\n",
      "\n",
      "See the caveats in the documentation: https://pandas.pydata.org/pandas-docs/stable/user_guide/indexing.html#returning-a-view-versus-a-copy\n",
      "  listing_clean['is_shared_room'][i] = 1\n"
     ]
    }
   ],
   "source": [
    "#Tranforming Booleans\n",
    "\n",
    "listing_clean['is_entire_place'] = 0\n",
    "\n",
    "for i in range (len(listing_clean)):\n",
    "    if listing_clean['room_type'][i] == 'Entire home/apt':\n",
    "        listing_clean['is_entire_place'][i] = 1\n",
    "          \n",
    "listing_clean['is_shared_room'] = 0\n",
    "\n",
    "for i in range (len(listing_clean)):\n",
    "    if listing_clean['room_type'][i] == 'Shared room':\n",
    "        listing_clean['is_shared_room'][i] = 1\n",
    "        \n",
    "listing_clean['host_is_superhost'] = listing_clean['host_is_superhost'].replace('f', 0)\n",
    "listing_clean['host_is_superhost'] = listing_clean['host_is_superhost'].replace('t', 1)\n",
    "\n",
    "listing_clean['host_identity_verified'] = listing_clean['host_identity_verified'].replace('f', 0)\n",
    "listing_clean['host_identity_verified'] = listing_clean['host_identity_verified'].replace('t', 1)\n",
    "\n",
    "listing_clean['host_has_profile_pic'] = listing_clean['host_has_profile_pic'].replace('f', 0)\n",
    "listing_clean['host_has_profile_pic'] = listing_clean['host_has_profile_pic'].replace('t', 1)"
   ]
  },
  {
   "cell_type": "markdown",
   "id": "42bd712e",
   "metadata": {},
   "source": [
    "## Visualization "
   ]
  },
  {
   "cell_type": "markdown",
   "id": "84ece0b6",
   "metadata": {},
   "source": [
    "### Removing Outliers "
   ]
  },
  {
   "cell_type": "code",
   "execution_count": 7,
   "id": "698de258",
   "metadata": {},
   "outputs": [
    {
     "data": {
      "image/png": "[encoded data removed]",
      "text/plain": [
       "<Figure size 432x288 with 1 Axes>"
      ]
     },
     "metadata": {
      "needs_background": "light"
     },
     "output_type": "display_data"
    }
   ],
   "source": [
    "listing_clean[['price']].plot.box()\n",
    "plt.title('Airbnb Price Box Plot')\n",
    "plt.show()"
   ]
  },
  {
   "cell_type": "code",
   "execution_count": 8,
   "id": "93c67e06",
   "metadata": {},
   "outputs": [
    {
     "name": "stdout",
     "output_type": "stream",
     "text": [
      "Removed 689 rows.\n"
     ]
    }
   ],
   "source": [
    "Q1 = listing_clean['price'].quantile(0.25)\n",
    "Q3 = listing_clean['price'].quantile(0.75)\n",
    "IQR = Q3 - Q1\n",
    "\n",
    "airbnb_df = listing_clean.drop(listing_clean[(listing_clean['price'] > Q3+1.5*IQR) | (listing_clean['price']< Q1-1.5*IQR) ].index )\n",
    "print(\"Removed\", listing_clean.shape[0] - airbnb_df.shape[0], \"rows.\")"
   ]
  },
  {
   "cell_type": "code",
   "execution_count": 9,
   "id": "9cf48878",
   "metadata": {},
   "outputs": [
    {
     "data": {
      "image/png": "[encoded data removed]",
      "text/plain": [
       "<Figure size 432x288 with 1 Axes>"
      ]
     },
     "metadata": {
      "needs_background": "light"
     },
     "output_type": "display_data"
    }
   ],
   "source": [
    "airbnb_df[['price']].plot.box()\n",
    "plt.title('Airbnb Price Box Plot')\n",
    "plt.show()"
   ]
  },
  {
   "cell_type": "markdown",
   "id": "6cf03b9f",
   "metadata": {},
   "source": [
    "### Distributions "
   ]
  },
  {
   "cell_type": "code",
   "execution_count": 10,
   "id": "27c2459e",
   "metadata": {},
   "outputs": [
    {
     "data": {
      "image/png": "[encoded data removed]",
      "text/plain": [
       "<Figure size 432x288 with 1 Axes>"
      ]
     },
     "metadata": {
      "needs_background": "light"
     },
     "output_type": "display_data"
    }
   ],
   "source": [
    "#Histogram - Distribution of Prices\n",
    "\n",
    "data = airbnb_df[['price']]\n",
    "sb.histplot(data, bins=10, legend = False, palette = ['crimson'])\n",
    "#distplot\n",
    "plt.xlabel('Price of listings')\n",
    "plt.ylabel('Frequency')\n",
    "plt.title('Airbnb Price Distribution')\n",
    "plt.show()"
   ]
  },
  {
   "cell_type": "markdown",
   "id": "25b09bc7",
   "metadata": {},
   "source": [
    "## Regressors and Correlations "
   ]
  },
  {
   "cell_type": "code",
   "execution_count": 11,
   "id": "1d716dfb",
   "metadata": {},
   "outputs": [
    {
     "data": {
      "text/html": [
       "<div>\n",
       "<style scoped>\n",
       "    .dataframe tbody tr th:only-of-type {\n",
       "        vertical-align: middle;\n",
       "    }\n",
       "\n",
       "    .dataframe tbody tr th {\n",
       "        vertical-align: top;\n",
       "    }\n",
       "\n",
       "    .dataframe thead th {\n",
       "        text-align: right;\n",
       "    }\n",
       "</style>\n",
       "<table border=\"1\" class=\"dataframe\">\n",
       "  <thead>\n",
       "    <tr style=\"text-align: right;\">\n",
       "      <th></th>\n",
       "      <th>id</th>\n",
       "      <th>accommodates</th>\n",
       "      <th>host_id</th>\n",
       "      <th>host_is_superhost</th>\n",
       "      <th>host_listings_count</th>\n",
       "      <th>host_has_profile_pic</th>\n",
       "      <th>host_identity_verified</th>\n",
       "      <th>latitude</th>\n",
       "      <th>longitude</th>\n",
       "      <th>bedrooms</th>\n",
       "      <th>price</th>\n",
       "      <th>number_of_reviews</th>\n",
       "      <th>nr_bath</th>\n",
       "      <th>is_entire_place</th>\n",
       "      <th>is_shared_room</th>\n",
       "    </tr>\n",
       "  </thead>\n",
       "  <tbody>\n",
       "    <tr>\n",
       "      <th>id</th>\n",
       "      <td>True</td>\n",
       "      <td>False</td>\n",
       "      <td>False</td>\n",
       "      <td>False</td>\n",
       "      <td>False</td>\n",
       "      <td>False</td>\n",
       "      <td>False</td>\n",
       "      <td>False</td>\n",
       "      <td>False</td>\n",
       "      <td>False</td>\n",
       "      <td>False</td>\n",
       "      <td>False</td>\n",
       "      <td>False</td>\n",
       "      <td>False</td>\n",
       "      <td>False</td>\n",
       "    </tr>\n",
       "    <tr>\n",
       "      <th>accommodates</th>\n",
       "      <td>False</td>\n",
       "      <td>True</td>\n",
       "      <td>False</td>\n",
       "      <td>False</td>\n",
       "      <td>False</td>\n",
       "      <td>False</td>\n",
       "      <td>False</td>\n",
       "      <td>False</td>\n",
       "      <td>False</td>\n",
       "      <td>True</td>\n",
       "      <td>True</td>\n",
       "      <td>False</td>\n",
       "      <td>False</td>\n",
       "      <td>False</td>\n",
       "      <td>False</td>\n",
       "    </tr>\n",
       "    <tr>\n",
       "      <th>host_id</th>\n",
       "      <td>False</td>\n",
       "      <td>False</td>\n",
       "      <td>True</td>\n",
       "      <td>False</td>\n",
       "      <td>False</td>\n",
       "      <td>False</td>\n",
       "      <td>False</td>\n",
       "      <td>False</td>\n",
       "      <td>False</td>\n",
       "      <td>False</td>\n",
       "      <td>False</td>\n",
       "      <td>False</td>\n",
       "      <td>False</td>\n",
       "      <td>False</td>\n",
       "      <td>False</td>\n",
       "    </tr>\n",
       "    <tr>\n",
       "      <th>host_is_superhost</th>\n",
       "      <td>False</td>\n",
       "      <td>False</td>\n",
       "      <td>False</td>\n",
       "      <td>True</td>\n",
       "      <td>False</td>\n",
       "      <td>False</td>\n",
       "      <td>False</td>\n",
       "      <td>False</td>\n",
       "      <td>False</td>\n",
       "      <td>False</td>\n",
       "      <td>False</td>\n",
       "      <td>False</td>\n",
       "      <td>False</td>\n",
       "      <td>False</td>\n",
       "      <td>False</td>\n",
       "    </tr>\n",
       "    <tr>\n",
       "      <th>host_listings_count</th>\n",
       "      <td>False</td>\n",
       "      <td>False</td>\n",
       "      <td>False</td>\n",
       "      <td>False</td>\n",
       "      <td>True</td>\n",
       "      <td>False</td>\n",
       "      <td>False</td>\n",
       "      <td>False</td>\n",
       "      <td>False</td>\n",
       "      <td>False</td>\n",
       "      <td>False</td>\n",
       "      <td>False</td>\n",
       "      <td>False</td>\n",
       "      <td>False</td>\n",
       "      <td>False</td>\n",
       "    </tr>\n",
       "    <tr>\n",
       "      <th>host_has_profile_pic</th>\n",
       "      <td>False</td>\n",
       "      <td>False</td>\n",
       "      <td>False</td>\n",
       "      <td>False</td>\n",
       "      <td>False</td>\n",
       "      <td>True</td>\n",
       "      <td>False</td>\n",
       "      <td>False</td>\n",
       "      <td>False</td>\n",
       "      <td>False</td>\n",
       "      <td>False</td>\n",
       "      <td>False</td>\n",
       "      <td>False</td>\n",
       "      <td>False</td>\n",
       "      <td>False</td>\n",
       "    </tr>\n",
       "    <tr>\n",
       "      <th>host_identity_verified</th>\n",
       "      <td>False</td>\n",
       "      <td>False</td>\n",
       "      <td>False</td>\n",
       "      <td>False</td>\n",
       "      <td>False</td>\n",
       "      <td>False</td>\n",
       "      <td>True</td>\n",
       "      <td>False</td>\n",
       "      <td>False</td>\n",
       "      <td>False</td>\n",
       "      <td>False</td>\n",
       "      <td>False</td>\n",
       "      <td>False</td>\n",
       "      <td>False</td>\n",
       "      <td>False</td>\n",
       "    </tr>\n",
       "    <tr>\n",
       "      <th>latitude</th>\n",
       "      <td>False</td>\n",
       "      <td>False</td>\n",
       "      <td>False</td>\n",
       "      <td>False</td>\n",
       "      <td>False</td>\n",
       "      <td>False</td>\n",
       "      <td>False</td>\n",
       "      <td>True</td>\n",
       "      <td>False</td>\n",
       "      <td>False</td>\n",
       "      <td>False</td>\n",
       "      <td>False</td>\n",
       "      <td>False</td>\n",
       "      <td>False</td>\n",
       "      <td>False</td>\n",
       "    </tr>\n",
       "    <tr>\n",
       "      <th>longitude</th>\n",
       "      <td>False</td>\n",
       "      <td>False</td>\n",
       "      <td>False</td>\n",
       "      <td>False</td>\n",
       "      <td>False</td>\n",
       "      <td>False</td>\n",
       "      <td>False</td>\n",
       "      <td>False</td>\n",
       "      <td>True</td>\n",
       "      <td>False</td>\n",
       "      <td>False</td>\n",
       "      <td>False</td>\n",
       "      <td>False</td>\n",
       "      <td>False</td>\n",
       "      <td>False</td>\n",
       "    </tr>\n",
       "    <tr>\n",
       "      <th>bedrooms</th>\n",
       "      <td>False</td>\n",
       "      <td>True</td>\n",
       "      <td>False</td>\n",
       "      <td>False</td>\n",
       "      <td>False</td>\n",
       "      <td>False</td>\n",
       "      <td>False</td>\n",
       "      <td>False</td>\n",
       "      <td>False</td>\n",
       "      <td>True</td>\n",
       "      <td>False</td>\n",
       "      <td>False</td>\n",
       "      <td>False</td>\n",
       "      <td>False</td>\n",
       "      <td>False</td>\n",
       "    </tr>\n",
       "    <tr>\n",
       "      <th>price</th>\n",
       "      <td>False</td>\n",
       "      <td>True</td>\n",
       "      <td>False</td>\n",
       "      <td>False</td>\n",
       "      <td>False</td>\n",
       "      <td>False</td>\n",
       "      <td>False</td>\n",
       "      <td>False</td>\n",
       "      <td>False</td>\n",
       "      <td>False</td>\n",
       "      <td>True</td>\n",
       "      <td>False</td>\n",
       "      <td>False</td>\n",
       "      <td>False</td>\n",
       "      <td>False</td>\n",
       "    </tr>\n",
       "    <tr>\n",
       "      <th>number_of_reviews</th>\n",
       "      <td>False</td>\n",
       "      <td>False</td>\n",
       "      <td>False</td>\n",
       "      <td>False</td>\n",
       "      <td>False</td>\n",
       "      <td>False</td>\n",
       "      <td>False</td>\n",
       "      <td>False</td>\n",
       "      <td>False</td>\n",
       "      <td>False</td>\n",
       "      <td>False</td>\n",
       "      <td>True</td>\n",
       "      <td>False</td>\n",
       "      <td>False</td>\n",
       "      <td>False</td>\n",
       "    </tr>\n",
       "    <tr>\n",
       "      <th>nr_bath</th>\n",
       "      <td>False</td>\n",
       "      <td>False</td>\n",
       "      <td>False</td>\n",
       "      <td>False</td>\n",
       "      <td>False</td>\n",
       "      <td>False</td>\n",
       "      <td>False</td>\n",
       "      <td>False</td>\n",
       "      <td>False</td>\n",
       "      <td>False</td>\n",
       "      <td>False</td>\n",
       "      <td>False</td>\n",
       "      <td>True</td>\n",
       "      <td>False</td>\n",
       "      <td>False</td>\n",
       "    </tr>\n",
       "    <tr>\n",
       "      <th>is_entire_place</th>\n",
       "      <td>False</td>\n",
       "      <td>False</td>\n",
       "      <td>False</td>\n",
       "      <td>False</td>\n",
       "      <td>False</td>\n",
       "      <td>False</td>\n",
       "      <td>False</td>\n",
       "      <td>False</td>\n",
       "      <td>False</td>\n",
       "      <td>False</td>\n",
       "      <td>False</td>\n",
       "      <td>False</td>\n",
       "      <td>False</td>\n",
       "      <td>True</td>\n",
       "      <td>False</td>\n",
       "    </tr>\n",
       "    <tr>\n",
       "      <th>is_shared_room</th>\n",
       "      <td>False</td>\n",
       "      <td>False</td>\n",
       "      <td>False</td>\n",
       "      <td>False</td>\n",
       "      <td>False</td>\n",
       "      <td>False</td>\n",
       "      <td>False</td>\n",
       "      <td>False</td>\n",
       "      <td>False</td>\n",
       "      <td>False</td>\n",
       "      <td>False</td>\n",
       "      <td>False</td>\n",
       "      <td>False</td>\n",
       "      <td>False</td>\n",
       "      <td>True</td>\n",
       "    </tr>\n",
       "  </tbody>\n",
       "</table>\n",
       "</div>"
      ],
      "text/plain": [
       "                           id  accommodates  host_id  host_is_superhost  \\\n",
       "id                       True         False    False              False   \n",
       "accommodates            False          True    False              False   \n",
       "host_id                 False         False     True              False   \n",
       "host_is_superhost       False         False    False               True   \n",
       "host_listings_count     False         False    False              False   \n",
       "host_has_profile_pic    False         False    False              False   \n",
       "host_identity_verified  False         False    False              False   \n",
       "latitude                False         False    False              False   \n",
       "longitude               False         False    False              False   \n",
       "bedrooms                False          True    False              False   \n",
       "price                   False          True    False              False   \n",
       "number_of_reviews       False         False    False              False   \n",
       "nr_bath                 False         False    False              False   \n",
       "is_entire_place         False         False    False              False   \n",
       "is_shared_room          False         False    False              False   \n",
       "\n",
       "                        host_listings_count  host_has_profile_pic  \\\n",
       "id                                    False                 False   \n",
       "accommodates                          False                 False   \n",
       "host_id                               False                 False   \n",
       "host_is_superhost                     False                 False   \n",
       "host_listings_count                    True                 False   \n",
       "host_has_profile_pic                  False                  True   \n",
       "host_identity_verified                False                 False   \n",
       "latitude                              False                 False   \n",
       "longitude                             False                 False   \n",
       "bedrooms                              False                 False   \n",
       "price                                 False                 False   \n",
       "number_of_reviews                     False                 False   \n",
       "nr_bath                               False                 False   \n",
       "is_entire_place                       False                 False   \n",
       "is_shared_room                        False                 False   \n",
       "\n",
       "                        host_identity_verified  latitude  longitude  bedrooms  \\\n",
       "id                                       False     False      False     False   \n",
       "accommodates                             False     False      False      True   \n",
       "host_id                                  False     False      False     False   \n",
       "host_is_superhost                        False     False      False     False   \n",
       "host_listings_count                      False     False      False     False   \n",
       "host_has_profile_pic                     False     False      False     False   \n",
       "host_identity_verified                    True     False      False     False   \n",
       "latitude                                 False      True      False     False   \n",
       "longitude                                False     False       True     False   \n",
       "bedrooms                                 False     False      False      True   \n",
       "price                                    False     False      False     False   \n",
       "number_of_reviews                        False     False      False     False   \n",
       "nr_bath                                  False     False      False     False   \n",
       "is_entire_place                          False     False      False     False   \n",
       "is_shared_room                           False     False      False     False   \n",
       "\n",
       "                        price  number_of_reviews  nr_bath  is_entire_place  \\\n",
       "id                      False              False    False            False   \n",
       "accommodates             True              False    False            False   \n",
       "host_id                 False              False    False            False   \n",
       "host_is_superhost       False              False    False            False   \n",
       "host_listings_count     False              False    False            False   \n",
       "host_has_profile_pic    False              False    False            False   \n",
       "host_identity_verified  False              False    False            False   \n",
       "latitude                False              False    False            False   \n",
       "longitude               False              False    False            False   \n",
       "bedrooms                False              False    False            False   \n",
       "price                    True              False    False            False   \n",
       "number_of_reviews       False               True    False            False   \n",
       "nr_bath                 False              False     True            False   \n",
       "is_entire_place         False              False    False             True   \n",
       "is_shared_room          False              False    False            False   \n",
       "\n",
       "                        is_shared_room  \n",
       "id                               False  \n",
       "accommodates                     False  \n",
       "host_id                          False  \n",
       "host_is_superhost                False  \n",
       "host_listings_count              False  \n",
       "host_has_profile_pic             False  \n",
       "host_identity_verified           False  \n",
       "latitude                         False  \n",
       "longitude                        False  \n",
       "bedrooms                         False  \n",
       "price                            False  \n",
       "number_of_reviews                False  \n",
       "nr_bath                          False  \n",
       "is_entire_place                  False  \n",
       "is_shared_room                    True  "
      ]
     },
     "execution_count": 11,
     "metadata": {},
     "output_type": "execute_result"
    }
   ],
   "source": [
    "col = airbnb_df.select_dtypes(['int', 'float']).columns\n",
    "col = list(col)\n",
    "col.sort()\n",
    "\n",
    "airbnb_df.corr() > 0.5"
   ]
  },
  {
   "cell_type": "code",
   "execution_count": 12,
   "id": "054da45a",
   "metadata": {},
   "outputs": [
    {
     "data": {
      "text/plain": [
       "id                             NaN\n",
       "accommodates              0.549572\n",
       "host_id                        NaN\n",
       "host_is_superhost              NaN\n",
       "host_listings_count            NaN\n",
       "host_has_profile_pic           NaN\n",
       "host_identity_verified         NaN\n",
       "latitude                       NaN\n",
       "longitude                      NaN\n",
       "bedrooms                  0.376681\n",
       "price                     1.000000\n",
       "number_of_reviews              NaN\n",
       "nr_bath                        NaN\n",
       "is_entire_place           0.448933\n",
       "is_shared_room                 NaN\n",
       "Name: price, dtype: float64"
      ]
     },
     "execution_count": 12,
     "metadata": {},
     "output_type": "execute_result"
    }
   ],
   "source": [
    "corr = airbnb_df.corr()\n",
    "corr[(corr > 0.2) | (corr < -0.2)]['price']"
   ]
  },
  {
   "cell_type": "code",
   "execution_count": 13,
   "id": "6f987033",
   "metadata": {},
   "outputs": [
    {
     "data": {
      "image/png": "[encoded data removed]",
      "text/plain": [
       "<Figure size 576x432 with 2 Axes>"
      ]
     },
     "metadata": {
      "needs_background": "light"
     },
     "output_type": "display_data"
    }
   ],
   "source": [
    "regressors = airbnb_df[['price', 'number_of_reviews', 'host_verifications', 'bedrooms', 'nr_bath', \\\n",
    "                       'is_entire_place', 'is_shared_room']]\n",
    "plt.subplots(figsize=(8,6))\n",
    "sb.heatmap(regressors.corr(), annot = True, cmap = 'magma')\n",
    "plt.show()"
   ]
  },
  {
   "cell_type": "markdown",
   "id": "c0c10f49",
   "metadata": {},
   "source": [
    "# Amenities Score"
   ]
  },
  {
   "cell_type": "code",
   "execution_count": 14,
   "id": "b4f5d683",
   "metadata": {},
   "outputs": [
    {
     "name": "stderr",
     "output_type": "stream",
     "text": [
      "C:\\Users\\sofia\\AppData\\Local\\Temp/ipykernel_5760/2310688818.py:9: SettingWithCopyWarning: \n",
      "A value is trying to be set on a copy of a slice from a DataFrame\n",
      "\n",
      "See the caveats in the documentation: https://pandas.pydata.org/pandas-docs/stable/user_guide/indexing.html#returning-a-view-versus-a-copy\n",
      "  amenities[count] = i.strip('][').split(', ')\n"
     ]
    }
   ],
   "source": [
    "#Turning amenities column type from string to list\n",
    "\n",
    "amenities=airbnb_df['amenities']\n",
    "amenities.reset_index(drop=True, inplace=True)\n",
    "airbnb_df.reset_index(drop=True, inplace=True)\n",
    "\n",
    "count=0\n",
    "for i in amenities:\n",
    "    amenities[count] = i.strip('][').split(', ')\n",
    "    count+=1"
   ]
  },
  {
   "cell_type": "code",
   "execution_count": 15,
   "id": "c8a1234e",
   "metadata": {},
   "outputs": [],
   "source": [
    "score=0\n",
    "score_list=list()\n",
    "\n",
    "for i in amenities:\n",
    "    score=len(i)\n",
    "    if '\"Air conditioning\"' in i:\n",
    "        score+=10\n",
    "        score-=1\n",
    "    if '\"Heating\"' in i:\n",
    "        score+=10\n",
    "        score-=1\n",
    "    if '\"Refrigerator\"' in i:\n",
    "        score+=10\n",
    "        score-=1\n",
    "    if '\"Washer\"' in i:\n",
    "        score+=9\n",
    "        score-=1\n",
    "    if '\"Essentials\"' in i:\n",
    "        score+=8\n",
    "        score-=1\n",
    "    if '\"Cooking basics\"' in i:\n",
    "        score+=7\n",
    "        score-=1\n",
    "    if '\"Dishwasher\"' in i:\n",
    "        score+=5\n",
    "        score-=1\n",
    "    if '\"Wifi\"' in i:\n",
    "        score+=6\n",
    "        score-=1\n",
    "    if '\"Hair dryer\"' in i:\n",
    "        score+=5\n",
    "        score-=1\n",
    "    if '\"TV\"' in i:\n",
    "        score+=2\n",
    "        score-=1\n",
    "    if '\"Microwave\"' in i:\n",
    "        score+=3\n",
    "        score-=1\n",
    "    score_list.append(score)"
   ]
  },
  {
   "cell_type": "code",
   "execution_count": 16,
   "id": "84e550a9",
   "metadata": {},
   "outputs": [],
   "source": [
    "airbnb_df['amenities_score'] = score_list"
   ]
  },
  {
   "cell_type": "markdown",
   "id": "6c9a1294",
   "metadata": {},
   "source": [
    "### Removing Outliers "
   ]
  },
  {
   "cell_type": "code",
   "execution_count": 17,
   "id": "174ed868",
   "metadata": {},
   "outputs": [
    {
     "data": {
      "text/plain": [
       "<AxesSubplot:>"
      ]
     },
     "execution_count": 17,
     "metadata": {},
     "output_type": "execute_result"
    },
    {
     "data": {
      "image/png": "[encoded data removed]",
      "text/plain": [
       "<Figure size 432x288 with 1 Axes>"
      ]
     },
     "metadata": {
      "needs_background": "light"
     },
     "output_type": "display_data"
    }
   ],
   "source": [
    "#Box Plot\n",
    "airbnb_df[['amenities_score']].plot.box()"
   ]
  },
  {
   "cell_type": "code",
   "execution_count": 18,
   "id": "7b94ca00",
   "metadata": {},
   "outputs": [],
   "source": [
    "Q1 = airbnb_df['amenities_score'].quantile(0.25)\n",
    "Q3 = airbnb_df['amenities_score'].quantile(0.75)\n",
    "IQR = Q3 - Q1\n",
    "airbnb_df=airbnb_df.drop(airbnb_df[ (airbnb_df['amenities_score'] > Q3+1.5*IQR) | (airbnb_df['amenities_score']< Q1-1.5*IQR) ].index )"
   ]
  },
  {
   "cell_type": "code",
   "execution_count": 19,
   "id": "550785a8",
   "metadata": {},
   "outputs": [
    {
     "data": {
      "text/plain": [
       "<AxesSubplot:>"
      ]
     },
     "execution_count": 19,
     "metadata": {},
     "output_type": "execute_result"
    },
    {
     "data": {
      "image/png": "[encoded data removed]",
      "text/plain": [
       "<Figure size 432x288 with 1 Axes>"
      ]
     },
     "metadata": {
      "needs_background": "light"
     },
     "output_type": "display_data"
    }
   ],
   "source": [
    "#New Box Plot\n",
    "airbnb_df[['amenities_score']].plot.box()"
   ]
  },
  {
   "cell_type": "code",
   "execution_count": 20,
   "id": "0250b866",
   "metadata": {},
   "outputs": [
    {
     "data": {
      "image/png": "[encoded data removed]",
      "text/plain": [
       "<Figure size 576x432 with 2 Axes>"
      ]
     },
     "metadata": {
      "needs_background": "light"
     },
     "output_type": "display_data"
    }
   ],
   "source": [
    "regressors = airbnb_df[['price', 'number_of_reviews', 'host_verifications', 'bedrooms', 'nr_bath', \\\n",
    "                       'is_entire_place', 'is_shared_room', 'amenities_score']]\n",
    "plt.subplots(figsize=(8,6))\n",
    "sb.heatmap(regressors.corr(), annot = True, cmap = 'magma')\n",
    "plt.show()"
   ]
  },
  {
   "cell_type": "markdown",
   "id": "ded19ecf",
   "metadata": {},
   "source": [
    "# Host Features "
   ]
  },
  {
   "cell_type": "code",
   "execution_count": 21,
   "id": "0bdc522a",
   "metadata": {},
   "outputs": [],
   "source": [
    "host_df = airbnb_df[['host_id', 'host_since', 'host_about', \\\n",
    "                     'host_response_time', 'host_response_rate', \\\n",
    "                     'host_is_superhost', 'host_listings_count', 'host_verifications', \\\n",
    "                     'host_has_profile_pic', 'host_identity_verified']]"
   ]
  },
  {
   "cell_type": "code",
   "execution_count": 22,
   "id": "a5e886b6",
   "metadata": {},
   "outputs": [
    {
     "name": "stderr",
     "output_type": "stream",
     "text": [
      "C:\\Users\\sofia\\AppData\\Local\\Temp/ipykernel_5760/1232671156.py:7: SettingWithCopyWarning: \n",
      "A value is trying to be set on a copy of a slice from a DataFrame\n",
      "\n",
      "See the caveats in the documentation: https://pandas.pydata.org/pandas-docs/stable/user_guide/indexing.html#returning-a-view-versus-a-copy\n",
      "  verifications[count2] = i.strip('][').split(', ')\n"
     ]
    }
   ],
   "source": [
    "verifications = host_df['host_verifications']\n",
    "verifications.reset_index(drop=True, inplace=True)\n",
    "airbnb_df.reset_index(drop=True, inplace=True)\n",
    "\n",
    "count2 = 0\n",
    "for i in verifications:\n",
    "    verifications[count2] = i.strip('][').split(', ')\n",
    "    count2 += 1"
   ]
  },
  {
   "cell_type": "code",
   "execution_count": 23,
   "id": "68cfc261",
   "metadata": {},
   "outputs": [],
   "source": [
    "host_score = 0 \n",
    "host_score_list = list()\n",
    "\n",
    "for i in verifications:\n",
    "    host_score = len(i)\n",
    "    if '\"phone\"' in i:\n",
    "        host_score += 10\n",
    "        host_score -= 1\n",
    "    if '\"email\"' in i:\n",
    "        host_score += 5\n",
    "        host_score -= 1\n",
    "    host_score_list.append(host_score)"
   ]
  },
  {
   "cell_type": "code",
   "execution_count": 24,
   "id": "d541771e",
   "metadata": {},
   "outputs": [],
   "source": [
    "host_df.reset_index(drop=True, inplace=True)"
   ]
  },
  {
   "cell_type": "code",
   "execution_count": 25,
   "id": "628eb83e",
   "metadata": {},
   "outputs": [],
   "source": [
    "for i in range (len(host_df)):\n",
    "    if host_df['host_response_time'][i] == 'within an hour':\n",
    "        host_score_list[i] += 10\n",
    "    if host_df['host_response_time'][i] == 'within a few hours':\n",
    "        host_score_list[i] += 5\n",
    "    if host_df['host_response_time'][i] == 'within a day':\n",
    "        host_score_list[i] += 3    "
   ]
  },
  {
   "cell_type": "code",
   "execution_count": 26,
   "id": "6f419f4b",
   "metadata": {},
   "outputs": [
    {
     "name": "stderr",
     "output_type": "stream",
     "text": [
      "C:\\Users\\sofia\\AppData\\Local\\Temp/ipykernel_5760/1892833973.py:1: SettingWithCopyWarning: \n",
      "A value is trying to be set on a copy of a slice from a DataFrame.\n",
      "Try using .loc[row_indexer,col_indexer] = value instead\n",
      "\n",
      "See the caveats in the documentation: https://pandas.pydata.org/pandas-docs/stable/user_guide/indexing.html#returning-a-view-versus-a-copy\n",
      "  host_df['Len_info_about'] = host_df['host_about'].astype(str).map(len)\n"
     ]
    }
   ],
   "source": [
    "host_df['Len_info_about'] = host_df['host_about'].astype(str).map(len)\n",
    "\n",
    "for i in range (len(host_df)):\n",
    "    if 300 <= host_df['Len_info_about'][i] <= 500:\n",
    "        host_score_list[i] += 5\n",
    "    if host_df['host_is_superhost'][i] == 1:\n",
    "        host_score_list[i] += 5\n",
    "    if host_df['host_has_profile_pic'][i] == 1 and host_df['host_identity_verified'][i] == 1:\n",
    "        host_score_list[i] += 5"
   ]
  },
  {
   "cell_type": "code",
   "execution_count": 27,
   "id": "7f814b09",
   "metadata": {},
   "outputs": [
    {
     "name": "stderr",
     "output_type": "stream",
     "text": [
      "C:\\Users\\sofia\\AppData\\Local\\Temp/ipykernel_5760/1324405203.py:1: SettingWithCopyWarning: \n",
      "A value is trying to be set on a copy of a slice from a DataFrame.\n",
      "Try using .loc[row_indexer,col_indexer] = value instead\n",
      "\n",
      "See the caveats in the documentation: https://pandas.pydata.org/pandas-docs/stable/user_guide/indexing.html#returning-a-view-versus-a-copy\n",
      "  host_df['host_since'] = pd.to_datetime(host_df['host_since'], format = '%Y-%m-%d')\n"
     ]
    }
   ],
   "source": [
    "host_df['host_since'] = pd.to_datetime(host_df['host_since'], format = '%Y-%m-%d') "
   ]
  },
  {
   "cell_type": "code",
   "execution_count": 28,
   "id": "189a9343",
   "metadata": {},
   "outputs": [],
   "source": [
    "for i in range (len(host_df)):\n",
    "    if host_df['host_since'][i] <= pd.Timestamp(2018, 1, 1):\n",
    "        host_score_list[i] += 5"
   ]
  },
  {
   "cell_type": "code",
   "execution_count": 29,
   "id": "78ae1815",
   "metadata": {},
   "outputs": [],
   "source": [
    "for i in range (len(host_df)):\n",
    "    if host_df['host_listings_count'][i] >= 3.0:\n",
    "        host_score_list[i] += 3"
   ]
  },
  {
   "cell_type": "code",
   "execution_count": 30,
   "id": "1512317d",
   "metadata": {},
   "outputs": [],
   "source": [
    "host_df.reset_index(drop=True, inplace=True)\n",
    "airbnb_df.reset_index(drop=True, inplace=True)"
   ]
  },
  {
   "cell_type": "code",
   "execution_count": 31,
   "id": "b0c92389",
   "metadata": {},
   "outputs": [],
   "source": [
    "airbnb_df['host_score'] = host_score_list\n",
    "#len(host_score_list)"
   ]
  },
  {
   "cell_type": "code",
   "execution_count": 32,
   "id": "7ac6f88b",
   "metadata": {},
   "outputs": [
    {
     "data": {
      "text/plain": [
       "<AxesSubplot:>"
      ]
     },
     "execution_count": 32,
     "metadata": {},
     "output_type": "execute_result"
    },
    {
     "data": {
      "image/png": "[encoded data removed]",
      "text/plain": [
       "<Figure size 432x288 with 1 Axes>"
      ]
     },
     "metadata": {
      "needs_background": "light"
     },
     "output_type": "display_data"
    }
   ],
   "source": [
    "airbnb_df[['host_score']].plot.box()"
   ]
  },
  {
   "cell_type": "code",
   "execution_count": 33,
   "id": "3d5ba6a8",
   "metadata": {},
   "outputs": [
    {
     "name": "stderr",
     "output_type": "stream",
     "text": [
      "C:\\Users\\sofia\\AppData\\Local\\Temp/ipykernel_5760/3077251174.py:2: FutureWarning: The pandas.datetime class is deprecated and will be removed from pandas in a future version. Import from datetime module instead.\n",
      "  host_df['years_of_experience'] = pd.datetime.now().year - host_df['host_since'].dt.year\n",
      "C:\\Users\\sofia\\AppData\\Local\\Temp/ipykernel_5760/3077251174.py:2: SettingWithCopyWarning: \n",
      "A value is trying to be set on a copy of a slice from a DataFrame.\n",
      "Try using .loc[row_indexer,col_indexer] = value instead\n",
      "\n",
      "See the caveats in the documentation: https://pandas.pydata.org/pandas-docs/stable/user_guide/indexing.html#returning-a-view-versus-a-copy\n",
      "  host_df['years_of_experience'] = pd.datetime.now().year - host_df['host_since'].dt.year\n"
     ]
    }
   ],
   "source": [
    "#from datetime import timedelta\n",
    "host_df['years_of_experience'] = pd.datetime.now().year - host_df['host_since'].dt.year"
   ]
  },
  {
   "cell_type": "code",
   "execution_count": 34,
   "id": "71ef92ac",
   "metadata": {},
   "outputs": [],
   "source": [
    "airbnb_df['host_experience'] = host_df['years_of_experience']"
   ]
  },
  {
   "cell_type": "code",
   "execution_count": 39,
   "id": "47854a7f",
   "metadata": {},
   "outputs": [
    {
     "data": {
      "image/png": "[encoded data removed]",
      "text/plain": [
       "<Figure size 576x432 with 2 Axes>"
      ]
     },
     "metadata": {
      "needs_background": "light"
     },
     "output_type": "display_data"
    }
   ],
   "source": [
    "regressors = airbnb_df[['price', 'number_of_reviews', 'host_verifications', \\\n",
    "                       'host_experience', 'host_score', 'accommodates']]\n",
    "plt.subplots(figsize=(8,6))\n",
    "sb.heatmap(regressors.corr(), annot = True, cmap = 'magma')\n",
    "plt.show()"
   ]
  },
  {
   "cell_type": "code",
   "execution_count": 36,
   "id": "a30adeb4",
   "metadata": {},
   "outputs": [
    {
     "data": {
      "text/html": [
       "<div>\n",
       "<style scoped>\n",
       "    .dataframe tbody tr th:only-of-type {\n",
       "        vertical-align: middle;\n",
       "    }\n",
       "\n",
       "    .dataframe tbody tr th {\n",
       "        vertical-align: top;\n",
       "    }\n",
       "\n",
       "    .dataframe thead th {\n",
       "        text-align: right;\n",
       "    }\n",
       "</style>\n",
       "<table border=\"1\" class=\"dataframe\">\n",
       "  <thead>\n",
       "    <tr style=\"text-align: right;\">\n",
       "      <th></th>\n",
       "      <th>host_experience</th>\n",
       "      <th>host_score</th>\n",
       "    </tr>\n",
       "  </thead>\n",
       "  <tbody>\n",
       "    <tr>\n",
       "      <th>0</th>\n",
       "      <td>13</td>\n",
       "      <td>28</td>\n",
       "    </tr>\n",
       "    <tr>\n",
       "      <th>1</th>\n",
       "      <td>12</td>\n",
       "      <td>31</td>\n",
       "    </tr>\n",
       "    <tr>\n",
       "      <th>2</th>\n",
       "      <td>12</td>\n",
       "      <td>31</td>\n",
       "    </tr>\n",
       "    <tr>\n",
       "      <th>3</th>\n",
       "      <td>12</td>\n",
       "      <td>34</td>\n",
       "    </tr>\n",
       "    <tr>\n",
       "      <th>4</th>\n",
       "      <td>12</td>\n",
       "      <td>24</td>\n",
       "    </tr>\n",
       "    <tr>\n",
       "      <th>...</th>\n",
       "      <td>...</td>\n",
       "      <td>...</td>\n",
       "    </tr>\n",
       "    <tr>\n",
       "      <th>7415</th>\n",
       "      <td>6</td>\n",
       "      <td>31</td>\n",
       "    </tr>\n",
       "    <tr>\n",
       "      <th>7416</th>\n",
       "      <td>6</td>\n",
       "      <td>28</td>\n",
       "    </tr>\n",
       "    <tr>\n",
       "      <th>7417</th>\n",
       "      <td>4</td>\n",
       "      <td>25</td>\n",
       "    </tr>\n",
       "    <tr>\n",
       "      <th>7418</th>\n",
       "      <td>4</td>\n",
       "      <td>16</td>\n",
       "    </tr>\n",
       "    <tr>\n",
       "      <th>7419</th>\n",
       "      <td>9</td>\n",
       "      <td>29</td>\n",
       "    </tr>\n",
       "  </tbody>\n",
       "</table>\n",
       "<p>7420 rows × 2 columns</p>\n",
       "</div>"
      ],
      "text/plain": [
       "      host_experience  host_score\n",
       "0                  13          28\n",
       "1                  12          31\n",
       "2                  12          31\n",
       "3                  12          34\n",
       "4                  12          24\n",
       "...               ...         ...\n",
       "7415                6          31\n",
       "7416                6          28\n",
       "7417                4          25\n",
       "7418                4          16\n",
       "7419                9          29\n",
       "\n",
       "[7420 rows x 2 columns]"
      ]
     },
     "execution_count": 36,
     "metadata": {},
     "output_type": "execute_result"
    }
   ],
   "source": [
    "airbnb_df[['host_experience', 'host_score']]"
   ]
  },
  {
   "cell_type": "code",
   "execution_count": 41,
   "id": "ca26fefc",
   "metadata": {},
   "outputs": [
    {
     "data": {
      "image/png": "[encoded data removed]",
      "text/plain": [
       "<Figure size 576x432 with 2 Axes>"
      ]
     },
     "metadata": {
      "needs_background": "light"
     },
     "output_type": "display_data"
    }
   ],
   "source": [
    "regressors = airbnb_df[['price','host_score', 'bedrooms', 'nr_bath', 'accommodates', \\\n",
    "                       'is_entire_place', 'is_shared_room', 'amenities_score', 'nr_bath']]\n",
    "plt.subplots(figsize=(8,6))\n",
    "sb.heatmap(regressors.corr(), annot = True, cmap = 'magma')\n",
    "plt.show()"
   ]
  },
  {
   "cell_type": "code",
   "execution_count": 37,
   "id": "e9d1d2bb",
   "metadata": {},
   "outputs": [
    {
     "data": {
      "text/plain": [
       "Index(['id', 'accommodates', 'name', 'host_id', 'host_since', 'host_about',\n",
       "       'host_response_time', 'host_response_rate', 'host_is_superhost',\n",
       "       'host_listings_count', 'host_verifications', 'host_has_profile_pic',\n",
       "       'host_identity_verified', 'neighbourhood_cleansed',\n",
       "       'neighbourhood_group_cleansed', 'latitude', 'longitude', 'room_type',\n",
       "       'bathrooms_text', 'bedrooms', 'amenities', 'price', 'number_of_reviews',\n",
       "       'nr_bath', 'type_of_bath', 'is_entire_place', 'is_shared_room',\n",
       "       'amenities_score', 'host_score', 'host_experience'],\n",
       "      dtype='object')"
      ]
     },
     "execution_count": 37,
     "metadata": {},
     "output_type": "execute_result"
    }
   ],
   "source": [
    "airbnb_df.columns"
   ]
  },
  {
   "cell_type": "code",
   "execution_count": 38,
   "id": "a335ef37",
   "metadata": {},
   "outputs": [
    {
     "data": {
      "text/plain": [
       "Index(['id', 'accommodates', 'name', 'host_id', 'host_since', 'host_about',\n",
       "       'host_response_time', 'host_response_rate', 'host_is_superhost',\n",
       "       'host_listings_count', 'host_verifications', 'host_has_profile_pic',\n",
       "       'host_identity_verified', 'neighbourhood_cleansed',\n",
       "       'neighbourhood_group_cleansed', 'latitude', 'longitude', 'room_type',\n",
       "       'bathrooms_text', 'bedrooms', 'amenities', 'price',\n",
       "       'number_of_reviews'],\n",
       "      dtype='object')"
      ]
     },
     "execution_count": 38,
     "metadata": {},
     "output_type": "execute_result"
    }
   ],
   "source": [
    "listing_df.columns"
   ]
  }
 ],
 "metadata": {
  "kernelspec": {
   "display_name": "Python 3 (ipykernel)",
   "language": "python",
   "name": "python3"
  },
  "language_info": {
   "codemirror_mode": {
    "name": "ipython",
    "version": 3
   },
   "file_extension": ".py",
   "mimetype": "text/x-python",
   "name": "python",
   "nbconvert_exporter": "python",
   "pygments_lexer": "ipython3",
   "version": "3.9.7"
  }
 },
 "nbformat": 4,
 "nbformat_minor": 5
}
